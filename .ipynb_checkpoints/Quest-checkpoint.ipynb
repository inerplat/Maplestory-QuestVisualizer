{
 "cells": [
  {
   "cell_type": "code",
   "execution_count": null,
   "metadata": {},
   "outputs": [],
   "source": [
    "from graphviz import Digraph\n",
    "import requests\n",
    "from bs4 import BeautifulSoup\n",
    "import string"
   ]
  },
  {
   "cell_type": "code",
   "execution_count": null,
   "metadata": {},
   "outputs": [],
   "source": [
    "styles = {\n",
    "    'graph': {\n",
    "        'label': '',\n",
    "        'fontsize': '16',\n",
    "        'fontcolor': 'white',\n",
    "        'bgcolor': '#333333',\n",
    "        'rankdir': 'BT',\n",
    "    },\n",
    "    'nodes': {\n",
    "        'fontname': 'Helvetica',\n",
    "        'shape': 'rectangle',\n",
    "        'fontcolor': 'white',\n",
    "        'color': 'white',\n",
    "        'style': 'filled',\n",
    "        'fillcolor': '#006699',\n",
    "    },\n",
    "    'edges': {\n",
    "        'style': 'dashed',\n",
    "        'color': 'white',\n",
    "        'arrowhead': 'open',\n",
    "        'fontname': 'Courier',\n",
    "        'fontsize': '12',\n",
    "        'fontcolor': 'white',\n",
    "    }\n",
    "}\n",
    "def apply_styles(graph, styles):\n",
    "    graph.graph_attr.update(\n",
    "        ('graph' in styles and styles['graph']) or {}\n",
    "    )\n",
    "    graph.node_attr.update(\n",
    "        ('nodes' in styles and styles['nodes']) or {}\n",
    "    )\n",
    "    graph.edge_attr.update(\n",
    "        ('edges' in styles and styles['edges']) or {}\n",
    "    )\n",
    "    return graph"
   ]
  },
  {
   "cell_type": "code",
   "execution_count": null,
   "metadata": {},
   "outputs": [],
   "source": [
    "req = requests.get('http://localhost/Quest/')\n",
    "html = req.text\n",
    "header = req.headers\n",
    "status = req.status_code\n",
    "is_ok = req.ok"
   ]
  },
  {
   "cell_type": "code",
   "execution_count": null,
   "metadata": {},
   "outputs": [],
   "source": [
    "print(status, is_ok)"
   ]
  },
  {
   "cell_type": "code",
   "execution_count": null,
   "metadata": {},
   "outputs": [],
   "source": [
    "soup = BeautifulSoup(req.content,'html.parser', from_encoding='utf-8')\n"
   ]
  },
  {
   "cell_type": "code",
   "execution_count": null,
   "metadata": {},
   "outputs": [],
   "source": [
    "my_titles = soup.select('table > tbody > tr > td')"
   ]
  },
  {
   "cell_type": "code",
   "execution_count": null,
   "metadata": {},
   "outputs": [],
   "source": [
    "questDict = {}\n",
    "for i in range(0,len(my_titles),2):\n",
    "    questDict[my_titles[i].text]=my_titles[i+1].text"
   ]
  },
  {
   "cell_type": "code",
   "execution_count": null,
   "metadata": {},
   "outputs": [],
   "source": [
    "tmp=soup.find_all('a')\n",
    "questGraph=[[] for i in range(550000)]\n",
    "for linki in range(0,len(tmp)):\n",
    "    link=tmp[linki]\n",
    "    req2=requests.get('http://localhost/Quest/'+link.get('href'))\n",
    "    soup2 = BeautifulSoup(req2.content,'html.parser', from_encoding='utf-8')\n",
    "    my_titles2 = soup2.select('table > tbody > tr > td > a')\n",
    "    BF = soup2.select('table > tbody > tr > td')\n",
    "    \n",
    "    for titles in my_titles2:\n",
    "        questGraph[int(titles.get('href').replace('.html',''))].append(int(link.get('href').replace('.html','')))"
   ]
  },
  {
   "cell_type": "code",
   "execution_count": null,
   "metadata": {},
   "outputs": [],
   "source": [
    "questChk=[0 for i in range(550000)]\n",
    "def dfs(x, num):\n",
    "    questChk[x]=num\n",
    "    for i in range(0,len(questGraph[x])):\n",
    "        if questGraph[x][i] and questChk[questGraph[x][i]]==0:\n",
    "            dfs(questGraph[x][i],num)\n",
    "cnt=0;\n",
    "for i in range(0,550000):\n",
    "    if questChk[i]==0:\n",
    "        cnt=cnt+1\n",
    "        questChk[i]=cnt\n",
    "        for j in range(0,len(questGraph[i])):\n",
    "            if questGraph[i][j] and questChk[questGraph[i][j]]==0:\n",
    "                dfs(questGraph[i][j],cnt)\n",
    "print(cnt)\n"
   ]
  },
  {
   "cell_type": "code",
   "execution_count": null,
   "metadata": {},
   "outputs": [],
   "source": [
    "def linkedGraph(index):\n",
    "    questData=[]\n",
    "    if questChk[index]!=0:\n",
    "        try:\n",
    "            for i in range(0,550000):\n",
    "                if questChk[i] == questChk[index] :\n",
    "                    #print(i)\n",
    "                    questData.append(i);\n",
    "                    dot.node(str(i), questDict[str(i)], URL=\"https://kennysoft.kr/WzComparerR2/Quest/\"+str(i)+\".html\", target=\"_blank\")\n",
    "            return(questData)\n",
    "        except:\n",
    "            return []"
   ]
  },
  {
   "cell_type": "code",
   "execution_count": null,
   "metadata": {},
   "outputs": [],
   "source": [
    "dot = Digraph(comment='', format='svg')\n",
    "questData = linkedGraph(34459)\n",
    "\n",
    "for data in questData:\n",
    "    for graph in questGraph[data]:\n",
    "        dot.edge(str(data), str(graph))"
   ]
  },
  {
   "cell_type": "code",
   "execution_count": null,
   "metadata": {},
   "outputs": [],
   "source": [
    "print(dot.source)  # doctest: +NORMALIZE_WHITESPACE\n",
    "dot = apply_styles(dot, styles)\n",
    "dot.render('test-output/round-table.gv', view=True)"
   ]
  }
 ],
 "metadata": {
  "kernelspec": {
   "display_name": "Python 3",
   "language": "python",
   "name": "python3"
  },
  "language_info": {
   "codemirror_mode": {
    "name": "ipython",
    "version": 3
   },
   "file_extension": ".py",
   "mimetype": "text/x-python",
   "name": "python",
   "nbconvert_exporter": "python",
   "pygments_lexer": "ipython3",
   "version": "3.5.2"
  }
 },
 "nbformat": 4,
 "nbformat_minor": 2
}
