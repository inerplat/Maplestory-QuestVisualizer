{
 "cells": [
  {
   "cell_type": "code",
   "execution_count": null,
   "metadata": {},
   "outputs": [],
   "source": [
    "from graphviz import Digraph\n",
    "import requests\n",
    "from bs4 import BeautifulSoup\n",
    "import string"
   ]
  },
  {
   "cell_type": "code",
   "execution_count": null,
   "metadata": {},
   "outputs": [],
   "source": [
    "styles = {\n",
    "    'graph': {\n",
    "        'label': '',\n",
    "        'fontsize': '16',\n",
    "        'fontcolor': 'white',\n",
    "        'bgcolor': '#333333',\n",
    "        'rankdir': 'TB',\n",
    "    },\n",
    "    'nodes': {\n",
    "        'fontname': 'Helvetica',\n",
    "        'shape': 'rectangle',\n",
    "        'fontcolor': 'white',\n",
    "        'color': 'white',\n",
    "        'style': 'filled',\n",
    "        'fillcolor': '#006699',\n",
    "    },\n",
    "    'edges': {\n",
    "        'style': 'dashed',\n",
    "        'color': 'white',\n",
    "        'arrowhead': 'open',\n",
    "        'fontname': 'Courier',\n",
    "        'fontsize': '12',\n",
    "        'fontcolor': 'white',\n",
    "    }\n",
    "}\n",
    "def apply_styles(graph, styles):\n",
    "    graph.graph_attr.update(\n",
    "        ('graph' in styles and styles['graph']) or {}\n",
    "    )\n",
    "    graph.node_attr.update(\n",
    "        ('nodes' in styles and styles['nodes']) or {}\n",
    "    )\n",
    "    graph.edge_attr.update(\n",
    "        ('edges' in styles and styles['edges']) or {}\n",
    "    )\n",
    "    return graph"
   ]
  },
  {
   "cell_type": "code",
   "execution_count": null,
   "metadata": {},
   "outputs": [],
   "source": [
    "req = requests.get('http://localhost/Quest/')\n",
    "html = req.text\n",
    "header = req.headers\n",
    "status = req.status_code\n",
    "is_ok = req.ok"
   ]
  },
  {
   "cell_type": "code",
   "execution_count": null,
   "metadata": {},
   "outputs": [],
   "source": [
    "print(status, is_ok)"
   ]
  },
  {
   "cell_type": "code",
   "execution_count": null,
   "metadata": {},
   "outputs": [],
   "source": [
    "soup = BeautifulSoup(req.content,'html.parser', from_encoding='utf-8')\n"
   ]
  },
  {
   "cell_type": "code",
   "execution_count": null,
   "metadata": {},
   "outputs": [],
   "source": [
    "my_titles = soup.select('table > tbody > tr > td')"
   ]
  },
  {
   "cell_type": "code",
   "execution_count": null,
   "metadata": {},
   "outputs": [],
   "source": [
    "questDict = {}\n",
    "for i in range(0,len(my_titles),2):\n",
    "    questDict[my_titles[i].text]=my_titles[i+1].text"
   ]
  },
  {
   "cell_type": "code",
   "execution_count": null,
   "metadata": {},
   "outputs": [],
   "source": [
    "tmp=soup.find_all('a')\n",
    "questGraph=[[] for i in range(550000)]\n",
    "RquestGraph=[[] for i in range(550000)]\n",
    "for linki in range(0,len(tmp)):\n",
    "    link=tmp[linki]\n",
    "    req2=requests.get('http://localhost/Quest/'+link.get('href'))\n",
    "    soup2 = BeautifulSoup(req2.content,'html.parser', from_encoding='utf-8')\n",
    "    my_titles2 = soup2.select('table > tbody > tr > td > a')\n",
    "    BF = soup2.select('table > tbody > tr > td')\n",
    "    \n",
    "    for titles in my_titles2:\n",
    "        questGraph[int(titles.get('href').replace('.html',''))].append(int(link.get('href').replace('.html','')))\n",
    "        RquestGraph[int(link.get('href').replace('.html',''))].append(int(titles.get('href').replace('.html','')))"
   ]
  },
  {
   "cell_type": "code",
   "execution_count": null,
   "metadata": {},
   "outputs": [],
   "source": [
    "questChk=[0 for i in range(550000)]\n",
    "def dfs(x, num, depth):\n",
    "    questChk[x]=num\n",
    "    for i in range(0,len(questGraph[x])):\n",
    "        if questGraph[x][i] and questChk[questGraph[x][i]]==0:\n",
    "            dfs(questGraph[x][i],num, depth+1)\n",
    "    for i in range(0, len(RquestGraph[x])):\n",
    "        if RquestGraph[x][i] and questChk[RquestGraph[x][i]]==0:\n",
    "            dfs(RquestGraph[x][i],num, depth+1)\n",
    "cnt=0;\n",
    "for i in range(0,550000):\n",
    "    if questChk[i]==0 and str(i) in questDict:\n",
    "        cnt=cnt+1\n",
    "        questChk[i]=cnt\n",
    "        for j in range(0,len(questGraph[i])):\n",
    "            if questGraph[i][j] and questChk[questGraph[i][j]]==0:\n",
    "                dfs(questGraph[i][j],cnt,0)\n",
    "        for j in range(0,len(RquestGraph[i])):\n",
    "            if RquestGraph[i][j] and questChk[RquestGraph[i][j]]==0:\n",
    "                dfs(RquestGraph[i][j],cnt,0)\n",
    "print(cnt)\n"
   ]
  },
  {
   "cell_type": "code",
   "execution_count": null,
   "metadata": {},
   "outputs": [],
   "source": []
  },
  {
   "cell_type": "code",
   "execution_count": null,
   "metadata": {},
   "outputs": [],
   "source": [
    "dot = Digraph(comment='', format='svg')\n",
    "questData=[]\n",
    "questNo = 34230\n",
    "qChk = [0 for i in range(550000)]\n",
    "import queue\n",
    "q=queue.Queue()\n",
    "q.put([questNo,0])\n",
    "qChk[questNo]=1\n",
    "while q.qsize():\n",
    "    nowData=q.get()\n",
    "'''\n",
    "    if nowData[1]>=5-1:\n",
    "        continue\n",
    "'''\n",
    "    questData.append(nowData[0]);\n",
    "    for nextData in questGraph[nowData[0]]:\n",
    "        if qChk[nextData]==0:\n",
    "            qChk[nextData]=1\n",
    "            q.put([nextData,nowData[1]+1])\n",
    "    for nextData in RquestGraph[nowData[0]]:\n",
    "        if qChk[nextData]==0:\n",
    "            qChk[nextData]=1\n",
    "            q.put([nextData,nowData[1]+1])\n",
    "\n",
    "nodeChk=[0 for i in range(550000)]\n",
    "for data in questData: \n",
    "    if nodeChk[data]==0:\n",
    "        dot.node(str(data), questDict[str(data)], URL=\"https://kennysoft.kr/WzComparerR2/Quest/\"+str(data)+\".html\", target=\"_blank\")\n",
    "    for graph in questGraph[data]:\n",
    "        if nodeChk[graph]==0 :\n",
    "            dot.node(str(graph), questDict[str(graph)], URL=\"https://kennysoft.kr/WzComparerR2/Quest/\"+str(graph)+\".html\", target=\"_blank\")\n",
    "        dot.edge(str(data), str(graph))"
   ]
  },
  {
   "cell_type": "code",
   "execution_count": null,
   "metadata": {},
   "outputs": [],
   "source": [
    "#print(dot.source)  # doctest: +NORMALIZE_WHITESPACE\n",
    "dot = apply_styles(dot, styles)\n",
    "dot.render('test-output/round-table.gv', view=True)"
   ]
  }
 ],
 "metadata": {
  "kernelspec": {
   "display_name": "Python 3",
   "language": "python",
   "name": "python3"
  },
  "language_info": {
   "codemirror_mode": {
    "name": "ipython",
    "version": 3
   },
   "file_extension": ".py",
   "mimetype": "text/x-python",
   "name": "python",
   "nbconvert_exporter": "python",
   "pygments_lexer": "ipython3",
   "version": "3.5.2"
  }
 },
 "nbformat": 4,
 "nbformat_minor": 2
}
